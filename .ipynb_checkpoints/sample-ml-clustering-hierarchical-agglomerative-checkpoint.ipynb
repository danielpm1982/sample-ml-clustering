{
 "cells": [
  {
   "cell_type": "markdown",
   "id": "addff6ed-9d34-4f92-b174-ea36ac4fe0ba",
   "metadata": {},
   "source": [
    "## This is an example of how to use Hierarchical Agglomerative Machine Learning (ML) method with clustering analysis for quantitative data variables, using Python, Pandas, NumPy, SciPy, Scikit-learn, Pingouin, Matplotlib, Seaborn and Plotly"
   ]
  },
  {
   "cell_type": "code",
   "execution_count": 1,
   "id": "2eaf21de-a4a4-49da-b455-77878f96f408",
   "metadata": {},
   "outputs": [],
   "source": [
    "import numpy as np\n",
    "import pandas as pd\n",
    "import matplotlib.pyplot as plt\n",
    "plt.style.use(\"dark_background\")\n",
    "import seaborn as sns\n",
    "import scipy.cluster.hierarchy as sch\n",
    "import scipy.stats as stats\n",
    "from scipy.stats import zscore\n",
    "from scipy.spatial.distance import pdist\n",
    "from sklearn.cluster import AgglomerativeClustering\n",
    "from sklearn.cluster import KMeans\n",
    "import pingouin as pg\n",
    "import plotly.express as px\n",
    "import plotly.io as pio\n",
    "pio.renderers.default='browser'"
   ]
  },
  {
   "cell_type": "markdown",
   "id": "774c5ef3-3834-47a9-8638-d47f417323e5",
   "metadata": {},
   "source": [
    "- the formulas shown at this notebook have been taken from the following reference:\n",
    "\n",
    "    FÁVERO, L. P.; BELFIORE, P. Manual de Análise de Dados: Estatística e Machine Learning com Excel®, SPSS®, Stata®, R® e Python®. 2ª edição, 1288 p. Brasil: ccGEN LTC, 2024.\n",
    "    \n",
    "    Available in Brazil at:\n",
    "    \n",
    "    https://www.amazon.com.br/Manual-An-C3-A1lise-Dados-Estat-C3-ADstica-Learning-dp-8595159920/dp/8595159920"
   ]
  },
  {
   "cell_type": "code",
   "execution_count": 2,
   "id": "78ce67c7-e8d2-48de-8bf7-751d51ac96fa",
   "metadata": {},
   "outputs": [
    {
     "data": {
      "text/html": [
       "<div>\n",
       "<style scoped>\n",
       "    .dataframe tbody tr th:only-of-type {\n",
       "        vertical-align: middle;\n",
       "    }\n",
       "\n",
       "    .dataframe tbody tr th {\n",
       "        vertical-align: top;\n",
       "    }\n",
       "\n",
       "    .dataframe thead th {\n",
       "        text-align: right;\n",
       "    }\n",
       "</style>\n",
       "<table border=\"1\" class=\"dataframe\">\n",
       "  <thead>\n",
       "    <tr style=\"text-align: right;\">\n",
       "      <th></th>\n",
       "      <th>STUDENT</th>\n",
       "      <th>MATH</th>\n",
       "      <th>PHYSICS</th>\n",
       "      <th>CHEMISTRY</th>\n",
       "    </tr>\n",
       "  </thead>\n",
       "  <tbody>\n",
       "    <tr>\n",
       "      <th>0</th>\n",
       "      <td>Student_A</td>\n",
       "      <td>3.7</td>\n",
       "      <td>2.7</td>\n",
       "      <td>9.1</td>\n",
       "    </tr>\n",
       "    <tr>\n",
       "      <th>1</th>\n",
       "      <td>Student_B</td>\n",
       "      <td>7.8</td>\n",
       "      <td>8.0</td>\n",
       "      <td>1.5</td>\n",
       "    </tr>\n",
       "    <tr>\n",
       "      <th>2</th>\n",
       "      <td>Student_C</td>\n",
       "      <td>8.9</td>\n",
       "      <td>1.0</td>\n",
       "      <td>2.7</td>\n",
       "    </tr>\n",
       "    <tr>\n",
       "      <th>3</th>\n",
       "      <td>Student_D</td>\n",
       "      <td>7.0</td>\n",
       "      <td>1.0</td>\n",
       "      <td>9.0</td>\n",
       "    </tr>\n",
       "    <tr>\n",
       "      <th>4</th>\n",
       "      <td>Student_E</td>\n",
       "      <td>3.4</td>\n",
       "      <td>2.0</td>\n",
       "      <td>5.0</td>\n",
       "    </tr>\n",
       "  </tbody>\n",
       "</table>\n",
       "</div>"
      ],
      "text/plain": [
       "     STUDENT  MATH  PHYSICS  CHEMISTRY\n",
       "0  Student_A   3.7      2.7        9.1\n",
       "1  Student_B   7.8      8.0        1.5\n",
       "2  Student_C   8.9      1.0        2.7\n",
       "3  Student_D   7.0      1.0        9.0\n",
       "4  Student_E   3.4      2.0        5.0"
      ]
     },
     "execution_count": 2,
     "metadata": {},
     "output_type": "execute_result"
    }
   ],
   "source": [
    "# reading and displaying our dataset\n",
    "entrance_exam_data = pd.read_excel(\"entrance_exam.xlsx\")\n",
    "entrance_exam_data"
   ]
  },
  {
   "cell_type": "code",
   "execution_count": 3,
   "id": "93839108-fbe1-456f-a50a-dc3abee37021",
   "metadata": {},
   "outputs": [
    {
     "name": "stdout",
     "output_type": "stream",
     "text": [
      "<class 'pandas.core.frame.DataFrame'>\n",
      "RangeIndex: 5 entries, 0 to 4\n",
      "Data columns (total 4 columns):\n",
      " #   Column     Non-Null Count  Dtype  \n",
      "---  ------     --------------  -----  \n",
      " 0   STUDENT    5 non-null      object \n",
      " 1   MATH       5 non-null      float64\n",
      " 2   PHYSICS    5 non-null      float64\n",
      " 3   CHEMISTRY  5 non-null      float64\n",
      "dtypes: float64(3), object(1)\n",
      "memory usage: 292.0+ bytes\n"
     ]
    }
   ],
   "source": [
    "entrance_exam_data.info()"
   ]
  },
  {
   "cell_type": "code",
   "execution_count": 4,
   "id": "60fdfabb-6c84-4e7e-ad54-9895c1308816",
   "metadata": {},
   "outputs": [
    {
     "data": {
      "text/html": [
       "<div>\n",
       "<style scoped>\n",
       "    .dataframe tbody tr th:only-of-type {\n",
       "        vertical-align: middle;\n",
       "    }\n",
       "\n",
       "    .dataframe tbody tr th {\n",
       "        vertical-align: top;\n",
       "    }\n",
       "\n",
       "    .dataframe thead th {\n",
       "        text-align: right;\n",
       "    }\n",
       "</style>\n",
       "<table border=\"1\" class=\"dataframe\">\n",
       "  <thead>\n",
       "    <tr style=\"text-align: right;\">\n",
       "      <th></th>\n",
       "      <th>MATH</th>\n",
       "      <th>PHYSICS</th>\n",
       "      <th>CHEMISTRY</th>\n",
       "    </tr>\n",
       "  </thead>\n",
       "  <tbody>\n",
       "    <tr>\n",
       "      <th>count</th>\n",
       "      <td>5.000000</td>\n",
       "      <td>5.000000</td>\n",
       "      <td>5.000000</td>\n",
       "    </tr>\n",
       "    <tr>\n",
       "      <th>mean</th>\n",
       "      <td>6.160000</td>\n",
       "      <td>2.940000</td>\n",
       "      <td>5.460000</td>\n",
       "    </tr>\n",
       "    <tr>\n",
       "      <th>std</th>\n",
       "      <td>2.478508</td>\n",
       "      <td>2.918561</td>\n",
       "      <td>3.510413</td>\n",
       "    </tr>\n",
       "    <tr>\n",
       "      <th>min</th>\n",
       "      <td>3.400000</td>\n",
       "      <td>1.000000</td>\n",
       "      <td>1.500000</td>\n",
       "    </tr>\n",
       "    <tr>\n",
       "      <th>25%</th>\n",
       "      <td>3.700000</td>\n",
       "      <td>1.000000</td>\n",
       "      <td>2.700000</td>\n",
       "    </tr>\n",
       "    <tr>\n",
       "      <th>50%</th>\n",
       "      <td>7.000000</td>\n",
       "      <td>2.000000</td>\n",
       "      <td>5.000000</td>\n",
       "    </tr>\n",
       "    <tr>\n",
       "      <th>75%</th>\n",
       "      <td>7.800000</td>\n",
       "      <td>2.700000</td>\n",
       "      <td>9.000000</td>\n",
       "    </tr>\n",
       "    <tr>\n",
       "      <th>max</th>\n",
       "      <td>8.900000</td>\n",
       "      <td>8.000000</td>\n",
       "      <td>9.100000</td>\n",
       "    </tr>\n",
       "  </tbody>\n",
       "</table>\n",
       "</div>"
      ],
      "text/plain": [
       "           MATH   PHYSICS  CHEMISTRY\n",
       "count  5.000000  5.000000   5.000000\n",
       "mean   6.160000  2.940000   5.460000\n",
       "std    2.478508  2.918561   3.510413\n",
       "min    3.400000  1.000000   1.500000\n",
       "25%    3.700000  1.000000   2.700000\n",
       "50%    7.000000  2.000000   5.000000\n",
       "75%    7.800000  2.700000   9.000000\n",
       "max    8.900000  8.000000   9.100000"
      ]
     },
     "execution_count": 4,
     "metadata": {},
     "output_type": "execute_result"
    }
   ],
   "source": [
    "entrance_exam_data.describe()"
   ]
  },
  {
   "cell_type": "code",
   "execution_count": 5,
   "id": "a6191299-2dc2-4508-8587-bc4a8e8fb46a",
   "metadata": {},
   "outputs": [],
   "source": [
    "# displaying a 3D scatter graph for each student data\n",
    "fig = px.scatter_3d(entrance_exam_data, x=\"MATH\", y=\"CHEMISTRY\", z=\"PHYSICS\", text=entrance_exam_data.STUDENT)\n",
    "fig.show()"
   ]
  },
  {
   "cell_type": "code",
   "execution_count": 6,
   "id": "cf74ab69-8984-49d6-9210-607d090f25c4",
   "metadata": {},
   "outputs": [
    {
     "data": {
      "text/html": [
       "<div>\n",
       "<style scoped>\n",
       "    .dataframe tbody tr th:only-of-type {\n",
       "        vertical-align: middle;\n",
       "    }\n",
       "\n",
       "    .dataframe tbody tr th {\n",
       "        vertical-align: top;\n",
       "    }\n",
       "\n",
       "    .dataframe thead th {\n",
       "        text-align: right;\n",
       "    }\n",
       "</style>\n",
       "<table border=\"1\" class=\"dataframe\">\n",
       "  <thead>\n",
       "    <tr style=\"text-align: right;\">\n",
       "      <th></th>\n",
       "      <th>MATH</th>\n",
       "      <th>PHYSICS</th>\n",
       "      <th>CHEMISTRY</th>\n",
       "    </tr>\n",
       "  </thead>\n",
       "  <tbody>\n",
       "    <tr>\n",
       "      <th>0</th>\n",
       "      <td>3.7</td>\n",
       "      <td>2.7</td>\n",
       "      <td>9.1</td>\n",
       "    </tr>\n",
       "    <tr>\n",
       "      <th>1</th>\n",
       "      <td>7.8</td>\n",
       "      <td>8.0</td>\n",
       "      <td>1.5</td>\n",
       "    </tr>\n",
       "    <tr>\n",
       "      <th>2</th>\n",
       "      <td>8.9</td>\n",
       "      <td>1.0</td>\n",
       "      <td>2.7</td>\n",
       "    </tr>\n",
       "    <tr>\n",
       "      <th>3</th>\n",
       "      <td>7.0</td>\n",
       "      <td>1.0</td>\n",
       "      <td>9.0</td>\n",
       "    </tr>\n",
       "    <tr>\n",
       "      <th>4</th>\n",
       "      <td>3.4</td>\n",
       "      <td>2.0</td>\n",
       "      <td>5.0</td>\n",
       "    </tr>\n",
       "  </tbody>\n",
       "</table>\n",
       "</div>"
      ],
      "text/plain": [
       "   MATH  PHYSICS  CHEMISTRY\n",
       "0   3.7      2.7        9.1\n",
       "1   7.8      8.0        1.5\n",
       "2   8.9      1.0        2.7\n",
       "3   7.0      1.0        9.0\n",
       "4   3.4      2.0        5.0"
      ]
     },
     "execution_count": 6,
     "metadata": {},
     "output_type": "execute_result"
    }
   ],
   "source": [
    "# in case we had data measured in different units or very different ranges of data for each variable (discipline), we could normalize our \n",
    "# data using ZScore as below (in our case we don't)\n",
    "entrance_exam_data_without_student = entrance_exam_data.drop(columns=[\"STUDENT\"])\n",
    "entrance_exam_data_without_student"
   ]
  },
  {
   "cell_type": "code",
   "execution_count": 7,
   "id": "1a503e7c-103e-448a-b476-baeeac861576",
   "metadata": {},
   "outputs": [],
   "source": [
    "# for normalizing or standardizing our data, we substract from each value the mean value of the column (variable) and divide the result by \n",
    "# the sample standard deviation of the same column (variable). That way, we have variables with mean = 0 and standard deviation = 1... each \n",
    "# single value varying from -1 up until 1. Then, we proceed the rest of the cluster analysis on that new standardized dataset instead."
   ]
  },
  {
   "cell_type": "markdown",
   "id": "312d34a5-5c29-4679-98c3-5ffc1417dd6b",
   "metadata": {},
   "source": [
    "![standardization-Z-score](standardization-Z-score.png)"
   ]
  },
  {
   "cell_type": "code",
   "execution_count": 8,
   "id": "5496cf55-9fa9-4da7-b03c-eadd9ff89f59",
   "metadata": {},
   "outputs": [
    {
     "data": {
      "text/html": [
       "<div>\n",
       "<style scoped>\n",
       "    .dataframe tbody tr th:only-of-type {\n",
       "        vertical-align: middle;\n",
       "    }\n",
       "\n",
       "    .dataframe tbody tr th {\n",
       "        vertical-align: top;\n",
       "    }\n",
       "\n",
       "    .dataframe thead th {\n",
       "        text-align: right;\n",
       "    }\n",
       "</style>\n",
       "<table border=\"1\" class=\"dataframe\">\n",
       "  <thead>\n",
       "    <tr style=\"text-align: right;\">\n",
       "      <th></th>\n",
       "      <th>MATH</th>\n",
       "      <th>PHYSICS</th>\n",
       "      <th>CHEMISTRY</th>\n",
       "    </tr>\n",
       "  </thead>\n",
       "  <tbody>\n",
       "    <tr>\n",
       "      <th>0</th>\n",
       "      <td>-0.992533</td>\n",
       "      <td>-0.082232</td>\n",
       "      <td>1.036915</td>\n",
       "    </tr>\n",
       "    <tr>\n",
       "      <th>1</th>\n",
       "      <td>0.661689</td>\n",
       "      <td>1.733731</td>\n",
       "      <td>-1.128072</td>\n",
       "    </tr>\n",
       "    <tr>\n",
       "      <th>2</th>\n",
       "      <td>1.105504</td>\n",
       "      <td>-0.664711</td>\n",
       "      <td>-0.786232</td>\n",
       "    </tr>\n",
       "    <tr>\n",
       "      <th>3</th>\n",
       "      <td>0.338914</td>\n",
       "      <td>-0.664711</td>\n",
       "      <td>1.008428</td>\n",
       "    </tr>\n",
       "    <tr>\n",
       "      <th>4</th>\n",
       "      <td>-1.113573</td>\n",
       "      <td>-0.322076</td>\n",
       "      <td>-0.131039</td>\n",
       "    </tr>\n",
       "  </tbody>\n",
       "</table>\n",
       "</div>"
      ],
      "text/plain": [
       "       MATH   PHYSICS  CHEMISTRY\n",
       "0 -0.992533 -0.082232   1.036915\n",
       "1  0.661689  1.733731  -1.128072\n",
       "2  1.105504 -0.664711  -0.786232\n",
       "3  0.338914 -0.664711   1.008428\n",
       "4 -1.113573 -0.322076  -0.131039"
      ]
     },
     "execution_count": 8,
     "metadata": {},
     "output_type": "execute_result"
    }
   ],
   "source": [
    "# applying the zscore method from scipy.stats module on our original dataset in order to get the standardized new dataset\n",
    "entrance_exam_data_without_student_std = entrance_exam_data_without_student.apply(func=zscore, ddof=1)\n",
    "entrance_exam_data_without_student_std"
   ]
  },
  {
   "cell_type": "code",
   "execution_count": 9,
   "id": "2ca750ce-4e9e-4950-b1bf-3bca6ef1c1bb",
   "metadata": {},
   "outputs": [
    {
     "name": "stdout",
     "output_type": "stream",
     "text": [
      "standardized dataset mean:\n",
      "MATH         0.0\n",
      "PHYSICS      0.0\n",
      "CHEMISTRY    0.0\n",
      "dtype: float64\n",
      "\n",
      "standardized dataset std:\n",
      "MATH         1.0\n",
      "PHYSICS      1.0\n",
      "CHEMISTRY    1.0\n",
      "dtype: float64\n"
     ]
    }
   ],
   "source": [
    "# showing that the standardized dataset has the mean and std for each variable as 0 and 1, respectively\n",
    "print(f\"standardized dataset mean:\\n{round(entrance_exam_data_without_student_std.mean(),2)}\\n\")\n",
    "print(f\"standardized dataset std:\\n{round(entrance_exam_data_without_student_std.std(),2)}\")"
   ]
  },
  {
   "cell_type": "code",
   "execution_count": 10,
   "id": "691c8ab9-6627-4e73-8d3c-1cbb4bedd24d",
   "metadata": {},
   "outputs": [
    {
     "data": {
      "image/png": "[encoded data removed]",
      "text/plain": [
       "<Figure size 1000x700 with 1 Axes>"
      ]
     },
     "metadata": {},
     "output_type": "display_data"
    }
   ],
   "source": [
    "# boxplot for showing the amplitude (range) of all original variables and proving we do not need, in this case, to normalize or \n",
    "# standardize the values using ZScore. The amplitude and units of the variables are already quite similar, with values from 0 to 10, with\n",
    "# no need of further data treatment\n",
    "plt.figure(figsize=(10,7))\n",
    "sns.boxplot(x=\"variable\", y=\"value\", data=pd.melt(entrance_exam_data_without_student))\n",
    "plt.ylabel(\"Values\",fontsize=16)\n",
    "plt.xlabel(\"Variables\", fontsize=16)\n",
    "plt.show()"
   ]
  },
  {
   "cell_type": "code",
   "execution_count": 11,
   "id": "db4b99c4-a440-4d9d-96da-ce9f545a51f2",
   "metadata": {},
   "outputs": [
    {
     "data": {
      "text/html": [
       "<div>\n",
       "<style scoped>\n",
       "    .dataframe tbody tr th:only-of-type {\n",
       "        vertical-align: middle;\n",
       "    }\n",
       "\n",
       "    .dataframe tbody tr th {\n",
       "        vertical-align: top;\n",
       "    }\n",
       "\n",
       "    .dataframe thead th {\n",
       "        text-align: right;\n",
       "    }\n",
       "</style>\n",
       "<table border=\"1\" class=\"dataframe\">\n",
       "  <thead>\n",
       "    <tr style=\"text-align: right;\">\n",
       "      <th></th>\n",
       "      <th>EUCLIDEAN DIST</th>\n",
       "    </tr>\n",
       "  </thead>\n",
       "  <tbody>\n",
       "    <tr>\n",
       "      <th>A-B</th>\n",
       "      <td>10.132127</td>\n",
       "    </tr>\n",
       "    <tr>\n",
       "      <th>A-C</th>\n",
       "      <td>8.419620</td>\n",
       "    </tr>\n",
       "    <tr>\n",
       "      <th>A-D</th>\n",
       "      <td>3.713489</td>\n",
       "    </tr>\n",
       "    <tr>\n",
       "      <th>A-E</th>\n",
       "      <td>4.170132</td>\n",
       "    </tr>\n",
       "    <tr>\n",
       "      <th>B-C</th>\n",
       "      <td>7.186793</td>\n",
       "    </tr>\n",
       "    <tr>\n",
       "      <th>B-D</th>\n",
       "      <td>10.290287</td>\n",
       "    </tr>\n",
       "    <tr>\n",
       "      <th>B-E</th>\n",
       "      <td>8.222530</td>\n",
       "    </tr>\n",
       "    <tr>\n",
       "      <th>C-D</th>\n",
       "      <td>6.580274</td>\n",
       "    </tr>\n",
       "    <tr>\n",
       "      <th>C-E</th>\n",
       "      <td>6.044833</td>\n",
       "    </tr>\n",
       "    <tr>\n",
       "      <th>D-E</th>\n",
       "      <td>5.473573</td>\n",
       "    </tr>\n",
       "  </tbody>\n",
       "</table>\n",
       "</div>"
      ],
      "text/plain": [
       "     EUCLIDEAN DIST\n",
       "A-B       10.132127\n",
       "A-C        8.419620\n",
       "A-D        3.713489\n",
       "A-E        4.170132\n",
       "B-C        7.186793\n",
       "B-D       10.290287\n",
       "B-E        8.222530\n",
       "C-D        6.580274\n",
       "C-E        6.044833\n",
       "D-E        5.473573"
      ]
     },
     "execution_count": 11,
     "metadata": {},
     "output_type": "execute_result"
    }
   ],
   "source": [
    "# creating and showing the dissimilarity matrix for the distance type \"euclidean\" between students A-B, A-C, A-D, A-E, B-C, B-D, B-E, C-D, \n",
    "# C-E, D-E. We don't have to create this matrix explicitly, as, implicitly, it's already created when generating the clusters dendrogram.\n",
    "# It's useful though to have a view of the distances between each element's (student) values (disciplines' grades), as it is this distance \n",
    "# between values that will be used to determine the sequence at each cluster combination (for single, complete or average linkage types)\n",
    "# The distance between students A and B, for instance, using euclidean distance type, is calculated by the square root of the sum of \n",
    "# squares of differences between each discipline's grades of student A and student B => A-B = sqroot((3.7-7.8)²+(2.7-8)²+(9.1-1.5)²) = \n",
    "# 10.132127. The same calculation is done for all possible combinations between each two students. This distance is later used at each phase\n",
    "# of cluster formation.\n",
    "distance_matrix_euclidean = pdist(entrance_exam_data_without_student, metric=\"euclidean\")\n",
    "pd.DataFrame(data=[distance_matrix_euclidean], columns=[\"A-B\",\"A-C\",\"A-D\",\"A-E\",\"B-C\",\"B-D\",\"B-E\",\"C-D\",\"C-E\",\"D-E\"], \n",
    "             index=[\"EUCLIDEAN DIST\"]).T"
   ]
  },
  {
   "cell_type": "code",
   "execution_count": 12,
   "id": "d608f7e3-4f0d-4378-8ee5-051e878d88bc",
   "metadata": {},
   "outputs": [],
   "source": [
    "# options of distance at the \"metric\" parameter:\n",
    "# 'braycurtis', 'canberra', 'chebyshev', 'cityblock' (manhattan), 'correlation', 'cosine', 'dice', 'euclidean', 'hamming',\n",
    "# 'jaccard', 'jensenshannon', 'kulczynski1', 'mahalanobis', 'matching', 'minkowski', 'rogerstanimoto', 'russellrao', 'seuclidean', \n",
    "# 'sokalmichener', 'sokalsneath', 'sqeuclidean', 'yule'.\n",
    "# You can find how they're calculated looking for each one at the web."
   ]
  },
  {
   "cell_type": "code",
   "execution_count": 13,
   "id": "71ac1c81-3424-42f8-b185-86de14e45458",
   "metadata": {},
   "outputs": [
    {
     "data": {
      "image/png": "[encoded data removed]",
      "text/plain": [
       "<Figure size 1600x800 with 1 Axes>"
      ]
     },
     "metadata": {},
     "output_type": "display_data"
    }
   ],
   "source": [
    "# generating and plotting the dendrogram, after setting the distance and linkage type to be used\n",
    "plt.figure(figsize=(16,8))\n",
    "dendrogram_euclidean_metric_single_linkage_data_array = sch.linkage(entrance_exam_data_without_student, method=\"single\", metric=\"euclidean\")\n",
    "dendrogram_s = sch.dendrogram(dendrogram_euclidean_metric_single_linkage_data_array, color_threshold = 4.5, labels = list(entrance_exam_data.STUDENT))\n",
    "plt.title('DENDROGRAM', fontsize=16)\n",
    "plt.xlabel('STUDENTS', fontsize=16)\n",
    "plt.ylabel('EUCLIDEAN DISTANCE', fontsize=16)\n",
    "plt.axhline(y = 4.5, color = 'red', linestyle = '--')\n",
    "plt.show()"
   ]
  },
  {
   "cell_type": "code",
   "execution_count": 14,
   "id": "53b7ad20-f116-4dd5-8a99-abf333065854",
   "metadata": {},
   "outputs": [],
   "source": [
    "# at the dendrogram above, based on the distances, it's been evaluated as ideal, for this use case, that we should have 3 clusters, \n",
    "# defined by the dashed horizontal red line: [Student_B], [Student_C] and [Student_E, Student_A and Student_D]. The eventual further \n",
    "# aggregation between the cluster [Student_C] and the cluster [Student_E, Student_A and Student_D] would be too costly in terms of distance \n",
    "# between them, as for the aggregation between [Student_C] and [Student_B]. This decision is subjective, though, and more than one solution\n",
    "# could be considered right. As a common sense, if the distance to aggregate the next cluster is too big, we stop the aggregation at that\n",
    "# state... in this case, with 3 distinct clusters."
   ]
  },
  {
   "cell_type": "code",
   "execution_count": 15,
   "id": "f553bf5f-9e6d-4993-b5d6-a64fdd19da69",
   "metadata": {},
   "outputs": [
    {
     "data": {
      "text/html": [
       "<div>\n",
       "<style scoped>\n",
       "    .dataframe tbody tr th:only-of-type {\n",
       "        vertical-align: middle;\n",
       "    }\n",
       "\n",
       "    .dataframe tbody tr th {\n",
       "        vertical-align: top;\n",
       "    }\n",
       "\n",
       "    .dataframe thead th {\n",
       "        text-align: right;\n",
       "    }\n",
       "</style>\n",
       "<table border=\"1\" class=\"dataframe\">\n",
       "  <thead>\n",
       "    <tr style=\"text-align: right;\">\n",
       "      <th></th>\n",
       "      <th>STUDENT</th>\n",
       "      <th>MATH</th>\n",
       "      <th>PHYSICS</th>\n",
       "      <th>CHEMISTRY</th>\n",
       "      <th>CLUSTER_INDICATOR_SINGLE</th>\n",
       "    </tr>\n",
       "  </thead>\n",
       "  <tbody>\n",
       "    <tr>\n",
       "      <th>0</th>\n",
       "      <td>Student_A</td>\n",
       "      <td>3.7</td>\n",
       "      <td>2.7</td>\n",
       "      <td>9.1</td>\n",
       "      <td>0</td>\n",
       "    </tr>\n",
       "    <tr>\n",
       "      <th>1</th>\n",
       "      <td>Student_B</td>\n",
       "      <td>7.8</td>\n",
       "      <td>8.0</td>\n",
       "      <td>1.5</td>\n",
       "      <td>1</td>\n",
       "    </tr>\n",
       "    <tr>\n",
       "      <th>2</th>\n",
       "      <td>Student_C</td>\n",
       "      <td>8.9</td>\n",
       "      <td>1.0</td>\n",
       "      <td>2.7</td>\n",
       "      <td>2</td>\n",
       "    </tr>\n",
       "    <tr>\n",
       "      <th>3</th>\n",
       "      <td>Student_D</td>\n",
       "      <td>7.0</td>\n",
       "      <td>1.0</td>\n",
       "      <td>9.0</td>\n",
       "      <td>0</td>\n",
       "    </tr>\n",
       "    <tr>\n",
       "      <th>4</th>\n",
       "      <td>Student_E</td>\n",
       "      <td>3.4</td>\n",
       "      <td>2.0</td>\n",
       "      <td>5.0</td>\n",
       "      <td>0</td>\n",
       "    </tr>\n",
       "  </tbody>\n",
       "</table>\n",
       "</div>"
      ],
      "text/plain": [
       "     STUDENT  MATH  PHYSICS  CHEMISTRY CLUSTER_INDICATOR_SINGLE\n",
       "0  Student_A   3.7      2.7        9.1                        0\n",
       "1  Student_B   7.8      8.0        1.5                        1\n",
       "2  Student_C   8.9      1.0        2.7                        2\n",
       "3  Student_D   7.0      1.0        9.0                        0\n",
       "4  Student_E   3.4      2.0        5.0                        0"
      ]
     },
     "execution_count": 15,
     "metadata": {},
     "output_type": "execute_result"
    }
   ],
   "source": [
    "# creating indicactors for each student and setting them as a new column, in order to display which cluster each student belongs to.\n",
    "# this is done after we have already performed the aggregation and decided how many clusters we wish to keep independent from each other\n",
    "# this is simply to create indicators regarding which cluster each student belongs to, it is not the hierarchical aggregation itself or the \n",
    "# respective dendrogram\n",
    "# each indicator number is a categorical value - the \"identifier\" of the cluster, and not a numerical value\n",
    "cluster_indicator_generator = AgglomerativeClustering(n_clusters = 3, metric = 'euclidean', linkage = 'single')\n",
    "cluster_indicators_generated = cluster_indicator_generator.fit_predict(entrance_exam_data_without_student)\n",
    "entrance_exam_data['CLUSTER_INDICATOR_SINGLE'] = cluster_indicators_generated\n",
    "entrance_exam_data['CLUSTER_INDICATOR_SINGLE'] = entrance_exam_data['CLUSTER_INDICATOR_SINGLE'].astype('category')\n",
    "entrance_exam_data"
   ]
  },
  {
   "cell_type": "code",
   "execution_count": 16,
   "id": "c08c4a4b-0206-4d84-aeea-d95e7385f669",
   "metadata": {},
   "outputs": [
    {
     "data": {
      "text/plain": [
       "[3.713488925525428, 4.170131892398609, 6.044832503882965, 7.1867934435323795]"
      ]
     },
     "execution_count": 16,
     "metadata": {},
     "output_type": "execute_result"
    }
   ],
   "source": [
    "# distances where each cluster has been formed at the dendrogram (at each hierarchical agglomerative stage) (see dendrogram above)\n",
    "[d[1] for d in dendrogram_s[\"dcoord\"]]"
   ]
  },
  {
   "cell_type": "code",
   "execution_count": 17,
   "id": "ca341e1b-c460-47d6-81c8-7248fcc5a04a",
   "metadata": {},
   "outputs": [
    {
     "data": {
      "image/png": "[encoded data removed]",
      "text/plain": [
       "<Figure size 1600x800 with 1 Axes>"
      ]
     },
     "metadata": {},
     "output_type": "display_data"
    }
   ],
   "source": [
    "# we can try other linkage types or metrics for different clustering results, for instance, changing metric to complete linkage.\n",
    "# generating and plotting the dendrogram, after setting the distance and linkage type to be used\n",
    "plt.figure(figsize=(16,8))\n",
    "dendrogram_euclidean_metric_single_linkage_data_array = sch.linkage(entrance_exam_data_without_student, method=\"complete\", metric=\"euclidean\")\n",
    "dendrogram_s = sch.dendrogram(dendrogram_euclidean_metric_single_linkage_data_array, color_threshold = 4.5, labels = list(entrance_exam_data.STUDENT))\n",
    "plt.title('DENDROGRAM', fontsize=16)\n",
    "plt.xlabel('STUDENTS', fontsize=16)\n",
    "plt.ylabel('EUCLIDEAN DISTANCE', fontsize=16)\n",
    "plt.axhline(y = 8, color = 'red', linestyle = '--')\n",
    "plt.show()"
   ]
  },
  {
   "cell_type": "code",
   "execution_count": 18,
   "id": "d2fcc55d-86b2-40b7-aacf-b851f24815de",
   "metadata": {},
   "outputs": [],
   "source": [
    "# if we set the cut off horizontal distance line to 8, we now would have 2 clusters, in this case, and we could also indicate that at our\n",
    "# dataframe through cluster indicators. Reusing the same code above, except by changing the linkage type and number of clusters we chose \n",
    "# to keep independent from each other"
   ]
  },
  {
   "cell_type": "code",
   "execution_count": 19,
   "id": "38c1d50b-0d72-4a89-ad4e-661613c8377c",
   "metadata": {},
   "outputs": [
    {
     "data": {
      "text/html": [
       "<div>\n",
       "<style scoped>\n",
       "    .dataframe tbody tr th:only-of-type {\n",
       "        vertical-align: middle;\n",
       "    }\n",
       "\n",
       "    .dataframe tbody tr th {\n",
       "        vertical-align: top;\n",
       "    }\n",
       "\n",
       "    .dataframe thead th {\n",
       "        text-align: right;\n",
       "    }\n",
       "</style>\n",
       "<table border=\"1\" class=\"dataframe\">\n",
       "  <thead>\n",
       "    <tr style=\"text-align: right;\">\n",
       "      <th></th>\n",
       "      <th>STUDENT</th>\n",
       "      <th>MATH</th>\n",
       "      <th>PHYSICS</th>\n",
       "      <th>CHEMISTRY</th>\n",
       "      <th>CLUSTER_INDICATOR_SINGLE</th>\n",
       "      <th>CLUSTER_INDICATOR_COMPLETE</th>\n",
       "    </tr>\n",
       "  </thead>\n",
       "  <tbody>\n",
       "    <tr>\n",
       "      <th>0</th>\n",
       "      <td>Student_A</td>\n",
       "      <td>3.7</td>\n",
       "      <td>2.7</td>\n",
       "      <td>9.1</td>\n",
       "      <td>0</td>\n",
       "      <td>1</td>\n",
       "    </tr>\n",
       "    <tr>\n",
       "      <th>1</th>\n",
       "      <td>Student_B</td>\n",
       "      <td>7.8</td>\n",
       "      <td>8.0</td>\n",
       "      <td>1.5</td>\n",
       "      <td>1</td>\n",
       "      <td>0</td>\n",
       "    </tr>\n",
       "    <tr>\n",
       "      <th>2</th>\n",
       "      <td>Student_C</td>\n",
       "      <td>8.9</td>\n",
       "      <td>1.0</td>\n",
       "      <td>2.7</td>\n",
       "      <td>2</td>\n",
       "      <td>0</td>\n",
       "    </tr>\n",
       "    <tr>\n",
       "      <th>3</th>\n",
       "      <td>Student_D</td>\n",
       "      <td>7.0</td>\n",
       "      <td>1.0</td>\n",
       "      <td>9.0</td>\n",
       "      <td>0</td>\n",
       "      <td>1</td>\n",
       "    </tr>\n",
       "    <tr>\n",
       "      <th>4</th>\n",
       "      <td>Student_E</td>\n",
       "      <td>3.4</td>\n",
       "      <td>2.0</td>\n",
       "      <td>5.0</td>\n",
       "      <td>0</td>\n",
       "      <td>1</td>\n",
       "    </tr>\n",
       "  </tbody>\n",
       "</table>\n",
       "</div>"
      ],
      "text/plain": [
       "     STUDENT  MATH  PHYSICS  CHEMISTRY CLUSTER_INDICATOR_SINGLE  \\\n",
       "0  Student_A   3.7      2.7        9.1                        0   \n",
       "1  Student_B   7.8      8.0        1.5                        1   \n",
       "2  Student_C   8.9      1.0        2.7                        2   \n",
       "3  Student_D   7.0      1.0        9.0                        0   \n",
       "4  Student_E   3.4      2.0        5.0                        0   \n",
       "\n",
       "  CLUSTER_INDICATOR_COMPLETE  \n",
       "0                          1  \n",
       "1                          0  \n",
       "2                          0  \n",
       "3                          1  \n",
       "4                          1  "
      ]
     },
     "execution_count": 19,
     "metadata": {},
     "output_type": "execute_result"
    }
   ],
   "source": [
    "cluster_indicator_generator = AgglomerativeClustering(n_clusters = 2, metric = 'euclidean', linkage = 'complete')\n",
    "cluster_indicators_generated = cluster_indicator_generator.fit_predict(entrance_exam_data_without_student)\n",
    "entrance_exam_data['CLUSTER_INDICATOR_COMPLETE'] = cluster_indicators_generated\n",
    "entrance_exam_data['CLUSTER_INDICATOR_COMPLETE'] = entrance_exam_data['CLUSTER_INDICATOR_COMPLETE'].astype('category')\n",
    "entrance_exam_data"
   ]
  },
  {
   "cell_type": "code",
   "execution_count": 20,
   "id": "3e0eca72-e740-4d7d-89b4-a5fe86ae867d",
   "metadata": {},
   "outputs": [
    {
     "data": {
      "image/png": "[encoded data removed]",
      "text/plain": [
       "<Figure size 1600x800 with 1 Axes>"
      ]
     },
     "metadata": {},
     "output_type": "display_data"
    }
   ],
   "source": [
    "# if we change again the linkage type, now to average linkage, we have another aggregation result and a different dendrogram.\n",
    "# generating and plotting the dendrogram, after setting the distance and linkage type to be used\n",
    "plt.figure(figsize=(16,8))\n",
    "dendrogram_euclidean_metric_single_linkage_data_array = sch.linkage(entrance_exam_data_without_student, method=\"average\", metric=\"euclidean\")\n",
    "dendrogram_s = sch.dendrogram(dendrogram_euclidean_metric_single_linkage_data_array, color_threshold = 4.5, labels = list(entrance_exam_data.STUDENT))\n",
    "plt.title('DENDROGRAM', fontsize=16)\n",
    "plt.xlabel('STUDENTS', fontsize=16)\n",
    "plt.ylabel('EUCLIDEAN DISTANCE', fontsize=16)\n",
    "plt.axhline(y = 5.5, color = 'red', linestyle = '--')\n",
    "plt.show()"
   ]
  },
  {
   "cell_type": "code",
   "execution_count": 21,
   "id": "b60f6fd4-f747-4924-bf9e-404c799a864a",
   "metadata": {},
   "outputs": [],
   "source": [
    "# if we set the cut off horizontal distance line to 5.5, we now would have 3 clusters, in this case, and we could also indicate that at our\n",
    "# dataframe through cluster indicators. Reusing the same code above, except by changing the linkage type and number of clusters we chose \n",
    "# to keep independent from each other"
   ]
  },
  {
   "cell_type": "code",
   "execution_count": 22,
   "id": "8dc5229c-0a29-43e2-b267-080460051129",
   "metadata": {},
   "outputs": [
    {
     "data": {
      "text/html": [
       "<div>\n",
       "<style scoped>\n",
       "    .dataframe tbody tr th:only-of-type {\n",
       "        vertical-align: middle;\n",
       "    }\n",
       "\n",
       "    .dataframe tbody tr th {\n",
       "        vertical-align: top;\n",
       "    }\n",
       "\n",
       "    .dataframe thead th {\n",
       "        text-align: right;\n",
       "    }\n",
       "</style>\n",
       "<table border=\"1\" class=\"dataframe\">\n",
       "  <thead>\n",
       "    <tr style=\"text-align: right;\">\n",
       "      <th></th>\n",
       "      <th>STUDENT</th>\n",
       "      <th>MATH</th>\n",
       "      <th>PHYSICS</th>\n",
       "      <th>CHEMISTRY</th>\n",
       "      <th>CLUSTER_INDICATOR_SINGLE</th>\n",
       "      <th>CLUSTER_INDICATOR_COMPLETE</th>\n",
       "      <th>CLUSTER_INDICATOR_AVERAGE</th>\n",
       "    </tr>\n",
       "  </thead>\n",
       "  <tbody>\n",
       "    <tr>\n",
       "      <th>0</th>\n",
       "      <td>Student_A</td>\n",
       "      <td>3.7</td>\n",
       "      <td>2.7</td>\n",
       "      <td>9.1</td>\n",
       "      <td>0</td>\n",
       "      <td>1</td>\n",
       "      <td>0</td>\n",
       "    </tr>\n",
       "    <tr>\n",
       "      <th>1</th>\n",
       "      <td>Student_B</td>\n",
       "      <td>7.8</td>\n",
       "      <td>8.0</td>\n",
       "      <td>1.5</td>\n",
       "      <td>1</td>\n",
       "      <td>0</td>\n",
       "      <td>1</td>\n",
       "    </tr>\n",
       "    <tr>\n",
       "      <th>2</th>\n",
       "      <td>Student_C</td>\n",
       "      <td>8.9</td>\n",
       "      <td>1.0</td>\n",
       "      <td>2.7</td>\n",
       "      <td>2</td>\n",
       "      <td>0</td>\n",
       "      <td>2</td>\n",
       "    </tr>\n",
       "    <tr>\n",
       "      <th>3</th>\n",
       "      <td>Student_D</td>\n",
       "      <td>7.0</td>\n",
       "      <td>1.0</td>\n",
       "      <td>9.0</td>\n",
       "      <td>0</td>\n",
       "      <td>1</td>\n",
       "      <td>0</td>\n",
       "    </tr>\n",
       "    <tr>\n",
       "      <th>4</th>\n",
       "      <td>Student_E</td>\n",
       "      <td>3.4</td>\n",
       "      <td>2.0</td>\n",
       "      <td>5.0</td>\n",
       "      <td>0</td>\n",
       "      <td>1</td>\n",
       "      <td>0</td>\n",
       "    </tr>\n",
       "  </tbody>\n",
       "</table>\n",
       "</div>"
      ],
      "text/plain": [
       "     STUDENT  MATH  PHYSICS  CHEMISTRY CLUSTER_INDICATOR_SINGLE  \\\n",
       "0  Student_A   3.7      2.7        9.1                        0   \n",
       "1  Student_B   7.8      8.0        1.5                        1   \n",
       "2  Student_C   8.9      1.0        2.7                        2   \n",
       "3  Student_D   7.0      1.0        9.0                        0   \n",
       "4  Student_E   3.4      2.0        5.0                        0   \n",
       "\n",
       "  CLUSTER_INDICATOR_COMPLETE CLUSTER_INDICATOR_AVERAGE  \n",
       "0                          1                         0  \n",
       "1                          0                         1  \n",
       "2                          0                         2  \n",
       "3                          1                         0  \n",
       "4                          1                         0  "
      ]
     },
     "execution_count": 22,
     "metadata": {},
     "output_type": "execute_result"
    }
   ],
   "source": [
    "cluster_indicator_generator = AgglomerativeClustering(n_clusters = 3, metric = 'euclidean', linkage = 'average')\n",
    "cluster_indicators_generated = cluster_indicator_generator.fit_predict(entrance_exam_data_without_student)\n",
    "entrance_exam_data['CLUSTER_INDICATOR_AVERAGE'] = cluster_indicators_generated\n",
    "entrance_exam_data['CLUSTER_INDICATOR_AVERAGE'] = entrance_exam_data['CLUSTER_INDICATOR_AVERAGE'].astype('category')\n",
    "entrance_exam_data"
   ]
  },
  {
   "cell_type": "code",
   "execution_count": null,
   "id": "b5ab5c51-8865-488f-be33-1167a90cfe50",
   "metadata": {},
   "outputs": [],
   "source": []
  }
 ],
 "metadata": {
  "kernelspec": {
   "display_name": "Python 3 (ipykernel)",
   "language": "python",
   "name": "python3"
  },
  "language_info": {
   "codemirror_mode": {
    "name": "ipython",
    "version": 3
   },
   "file_extension": ".py",
   "mimetype": "text/x-python",
   "name": "python",
   "nbconvert_exporter": "python",
   "pygments_lexer": "ipython3",
   "version": "3.12.4"
  }
 },
 "nbformat": 4,
 "nbformat_minor": 5
}
